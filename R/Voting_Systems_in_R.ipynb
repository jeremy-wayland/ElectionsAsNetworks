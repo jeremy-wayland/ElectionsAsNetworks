{
 "cells": [
  {
   "cell_type": "markdown",
   "metadata": {},
   "source": [
    "# Implementing a Voting System"
   ]
  },
  {
   "cell_type": "markdown",
   "metadata": {},
   "source": [
    "## Background Theory\n",
    "Here I will summarize the formalism used/developed in Wayland2019. The construction of a generalized voting system, consisting of a set of voters, a set of candidates and a voting rule to compute the outcome of an election is quite standard in the field of social choice theory.\n",
    "* Let $V$ be a nonempty set of n voters $\\{1,...,n\\}$\n",
    "* Let $C$ be the set of m candidates $\\{c_1,...,c_m\\}$\n",
    "* In this situation, we assume that each voter is ranking each of the candidates on their ballot to produce a linear order.\n",
    "* Let $\\mathcal{L}(C)$ denote the set of all linear orders on $C$. It follows then that the collection of ballots, which will be referred to as a profile $\\mathbb{P}$, is a subset of $\\mathcal{L}(C)$. \n",
    "* For $i\\in V$ let $P_i\\in \\mathcal{L}(C)$ denote the truthful preferences of the $i^{th}$ voter.\n",
    "* Then a voting rule, $f$ is nothing more than a function $f:\\mathcal{L}(C)\\to C$ that picks out a single winner.\n",
    "\n",
    "### Voting Rules\n",
    "There are a number of different ways to determine the outcome of an election. This investigation will only consider positional scoring rules. These assign a numerical score to each candidate based on their rank in each $P_i$; the candidate with the maximum score is selected as the winner. \n",
    "* Define a scoring vector to be $s = \\langle s_1,s_2,...,s_m \\rangle$ where for $j=1,...,m-1, s_j\\geq s_{j+1}$.\n",
    "* For $x\\in C$, let the function $score(P_i,x) = s_r$. This picks out the appropriate score in the scoring vector assocaited with the $r^{th}$ element in the linear order $P_i$.\n",
    "* Thus in collecting the total score for $x\\in C$ we are computing $total(\\mathbb{P},x) = \\sum_{i=1}^n score(P_i,x)$\n",
    "* This allows for a concrete definition of a voting rule $f$ on a given profile $\\mathbb{P}$ and scoring vector $s$:\n",
    "    $$ f(\\mathbb{P},s) = \\max_{x\\in C} total(\\mathbb{P},x)$$\n",
    "##### This formalism allows you to fully generate a postional scoring rule given it's scoring vector. Here are some specifications of a few common voting rules:\n",
    "* Plurality: the rule given by $\\langle 1,...,0 \\rangle$.\n",
    "* k-approval: the rule given by $\\langle 1,1,...,0 \\rangle$ where you have $k$ 1's followed by zeros.\n",
    "* Borda: the rule given by $\\langle m-1,m-2,...,0 \\rangle$"
   ]
  },
  {
   "cell_type": "markdown",
   "metadata": {},
   "source": [
    "## Implementation"
   ]
  },
  {
   "cell_type": "code",
   "execution_count": 14,
   "metadata": {},
   "outputs": [
    {
     "name": "stderr",
     "output_type": "stream",
     "text": [
      "Skipping install of 'elections' from a github remote, the SHA1 (53297d9f) has not changed since last install.\n",
      "  Use `force = TRUE` to force installation\n",
      "\n"
     ]
    }
   ],
   "source": [
    "# Imports\n",
    "library(dplyr)\n",
    "library(MVN)\n",
    "library(Hmisc)\n",
    "library(ggplot2)\n",
    "library(tidyverse)\n",
    "devtools::install_github('MEDSL/elections')\n",
    "library(elections)\n",
    "library(data.table)"
   ]
  },
  {
   "cell_type": "code",
   "execution_count": 2,
   "metadata": {},
   "outputs": [],
   "source": [
    "# Setup an example Election\n",
    "C <- c(\"Donald Trump\",\"Joe Biden\",\"Kanye West\")\n",
    "num_voters <- 30\n",
    "voting_rule <- \"Plurality\"\n"
   ]
  },
  {
   "cell_type": "code",
   "execution_count": 15,
   "metadata": {},
   "outputs": [],
   "source": [
    "# Generate random ballots for the voters to construct a voting profile \n",
    "\n",
    "construct_profile <- function(num_voters,candidates) {    \n",
    "    #' Return n random permutations on the set of canidates as a matrix\n",
    "    profile <- matrix(data = seq(num_voters*length(candidates)),nrow = num_voters, ncol = length(candidates))\n",
    "    for (i in seq(num_voters)) {\n",
    "        ballot <- sample(C, length(C), replace=FALSE)\n",
    "        profile[i,] <- ballot\n",
    "    }\n",
    "    return(profile)\n",
    "}\n",
    "\n",
    "\n",
    "\n",
    "#Create a scoring vector for a particular profile and voting method\n",
    "\n",
    "generate_s_vector <- function(profile,voting_rule) {\n",
    "    \n",
    "    m <- dim(profile)[2]\n",
    "    \n",
    "    if (voting_rule == \"Plurality\"){\n",
    "        s_vector <- replicate(m,0)\n",
    "        s_vector[1] <- 1\n",
    "    }\n",
    "    else if (voting_rule == \"Borda\"){\n",
    "        s_vector <- rev(0:(m-1))\n",
    "    }\n",
    "    else {\n",
    "        print(\"No functionality for this type of voting method yet\")\n",
    "        return\n",
    "    }\n",
    "    return(s_vector)\n",
    "}"
   ]
  },
  {
   "cell_type": "code",
   "execution_count": 4,
   "metadata": {},
   "outputs": [],
   "source": [
    "# Compute the total score for each candidate\n",
    "total <- function(profile, s_vector) {\n",
    "    \n",
    "    dim <- dim(profile)\n",
    "    \n",
    "    \n",
    "    if (!is.vector(s_vector)) {\n",
    "        print(\"Scoring Vector is not a vector\")\n",
    "        return \n",
    "    }\n",
    "    \n",
    "    if (dim[2] != length(s_vector)) {\n",
    "        print(\"Dimensions of score vector and profile do not match\")\n",
    "        return \n",
    "    }\n",
    "    \n",
    "    df <- as.data.frame(profile)\n",
    "    colnames(df) <- s_vector\n",
    "    freq <- (gather(df) %>% group_by(key, value) %>% tally)\n",
    "    freq$score <- as.numeric(freq$key)*freq$n\n",
    "\n",
    "    totals <- matrix(nrow = dim[2],ncol = 2)\n",
    "    for (i in 1:dim(P)[2]) {\n",
    "            totals[i,] <- c(unique(freq$value[seq(i, dim(freq)[1], dim[2])]),sum(freq$score[seq(i, dim(freq)[1], dim[2])]))\n",
    "        }\n",
    "    return(totals)\n",
    "}\n",
    "\n",
    "# Determine the winner of the election\n",
    "\n",
    "f <- function(profile,voting_rule) {\n",
    "   \n",
    "    s_vector <- generate_s_vector(profile,voting_rule)\n",
    "    totals <- as.data.frame(total(profile,s_vector))\n",
    "    colnames(totals) <- c(\"Candidate\",paste(voting_rule,\"Score\"))\n",
    "    print(totals)\n",
    "    winner <- totals[which.max(totals[,2]),]$Candidate\n",
    "    print(paste(\"The winner of the election is\",winner))\n",
    "    return(winner)\n",
    "    \n",
    "}"
   ]
  },
  {
   "cell_type": "code",
   "execution_count": 21,
   "metadata": {},
   "outputs": [],
   "source": [
    "# Test with randomly generated profile\n",
    "P <- construct_profile(num_voters,C)\n",
    "#winner <- f(profile = P,voting_rule = \"Borda\")\n"
   ]
  },
  {
   "cell_type": "markdown",
   "metadata": {},
   "source": [
    "## Deciding an Election in this Formalism\n",
    "\n",
    "One of the upshots of the formalism developed in Wayland2019 is that elections (as networks) are composable; a large election is simply a composition of smaller ones which can all be determined using the formalism above. My thesis specifically, shows that elections have a commutative monoidal structure. The monoidal structure allows for a formal understanding of not only composition, but parallel processing and agregating populations as well. For more detail see the full paper in the repo.\n",
    "\n",
    "\n",
    "Now, lets take the presidential election as a prevelant example. Assuming we have the Democratic and Republican candidates already, the election process can be divided into two stages which we compose to determine the president elect. The two stages are:\n",
    "* Deciding, by popular vote, the winning candidate of each state. This is done in parallel across the states.\n",
    "* Doling out electoral college votes to candidates according to their standing in each state.\n",
    "\n",
    "### State Vote\n",
    "The first vote can be determined by plurality, where the winner of each state contribution is scored acoording to $\\langle \\text{1},0,...,0\\rangle$. Simply, the candidate with the most votes is determined to be the winner of the state.\n",
    "\n",
    "### Electoral College\n",
    "This stage is a bit more subtle, both in this formalism and it's political conception. We know that in practice, the college's votes do not have to reflect the preferences of the people. For the purpose of this project, we will, in good faith, assume they do. In the spirit of composition, treat the states as a type of voter and use the state's \"ballot\" to assign electoral votes to decide the winner of the election. This is assuming all involved maintain a baseline level of integrity. Again we take this as a given, but 2020 has showed us this might not always be the case. The fact that we need to distinguish between states makes the construction of the scoring vector a bit more interesting. Notice that this formalism does not catalogue much information about specific voters aside from the cardinality and a simple ordering. In many cases it is only necessary to treat your set of voters as the set $\\{1,...,n\\}$.\n",
    "\n",
    "#### A brief aside\n",
    "* Although this may seem unproductive at first, this abstraction allows voting systems to be treated as a network, and thus leverage results of network theory. Understanding the underlying structure (category theory) allows a single formalism to capture the beahvior of elections, voting methods, feynman diagrams, and many other manifestations of a \"network\". One of the goals of this project is to start developoing an understanding of which parts of the formalism are important in practice.\n",
    "\n",
    "In accordance with the construction in Wayland2019, the information about specific voters (states with differing electoral influence) must be encoded into the ballot and the scoring vector. This allows a consistent shift from the input to the network (the voters ballots) to the output (a designated winner). In this case output from the state vote becomes the ballot of the electoral college state. This leads to the following construction:\n",
    "\n",
    "\n",
    "#### Step 1:\n",
    "Given that this formalism is currently restricted to positional scoring rules, the most natural scoring vector to use is the list of electoral votes from largest to smallest. I.e. \n",
    "$$ S =  \\langle 55,38,....,3\\rangle$$\n",
    "Where 55 corresponds to California's electoral votes, 38 to Texas's, et cetera. Essentially we are constructing the scoring vector to reflect an order of states according to population. Notice $|S|=51$.\n",
    "\n",
    "  \n",
    "#### Step 2:\n",
    "We need to generate a single ballot that encodes the choice of each state. Recall that, formally, the ballot is simply a linear order on the set of candidates. For the scope of this project I won't go into details of how to construct the encoding, but rather just give the result: the generated ballot in its final form will tag the winning candidate and the reference state as such:\n",
    "\n",
    "$$  B = \\langle\\{Biden,California\\},\\{Trump,Texas\\},...\\} \\rangle $$\n",
    "\n",
    "Again, as expected, we have $|B|=51$. The subtlety here comes from the fact that we need this to represent a linear order; it does, but getting there formally takes a bit of work to design the appopriate, isomorphic set and order.\n",
    "\n",
    "#### Step 3:\n",
    "Now we can match up the elements in B and S using a total function. Looking at the first element as example, the total function would assign 55 votes to Biden as California's contribution. Then proceed through the 50 remaining states to produce the total votes for Trump and Biden, and take the maximum to determine the winner. Combining this information into a single ballot keeps with the tradition of keeping voters indistinguishable that is baked into my formalism.\n",
    "    \n",
    "    \n",
    "## Deciding in Practice \n",
    "This project looks at the  2016 election as an example since all the data is easily accessible. Pulling data from https://electionlab.mit.edu/ using https://github.com/MEDSL/elections.git :"
   ]
  },
  {
   "cell_type": "code",
   "execution_count": 43,
   "metadata": {},
   "outputs": [
    {
     "data": {
      "text/html": [
       "<table>\n",
       "<caption>A data.table: 6 × 4</caption>\n",
       "<thead>\n",
       "\t<tr><th scope=col>state</th><th scope=col>candidate</th><th scope=col>office</th><th scope=col>votes</th></tr>\n",
       "\t<tr><th scope=col>&lt;chr&gt;</th><th scope=col>&lt;chr&gt;</th><th scope=col>&lt;chr&gt;</th><th scope=col>&lt;dbl&gt;</th></tr>\n",
       "</thead>\n",
       "<tbody>\n",
       "\t<tr><td>Alabama</td><td>Hillary Clinton         </td><td>US President  </td><td>135</td></tr>\n",
       "\t<tr><td>Alabama</td><td>Gary Johnson            </td><td>US President  </td><td>  0</td></tr>\n",
       "\t<tr><td>Alabama</td><td>Jill Stein              </td><td>US President  </td><td>  1</td></tr>\n",
       "\t<tr><td>Alabama</td><td>Donald Trump            </td><td>US President  </td><td>218</td></tr>\n",
       "\t<tr><td>Alabama</td><td>[Write-in]              </td><td>US President  </td><td>  4</td></tr>\n",
       "\t<tr><td>Alabama</td><td>Alabama Democratic Party</td><td>Straight Party</td><td>119</td></tr>\n",
       "</tbody>\n",
       "</table>\n"
      ],
      "text/latex": [
       "A data.table: 6 × 4\n",
       "\\begin{tabular}{llll}\n",
       " state & candidate & office & votes\\\\\n",
       " <chr> & <chr> & <chr> & <dbl>\\\\\n",
       "\\hline\n",
       "\t Alabama & Hillary Clinton          & US President   & 135\\\\\n",
       "\t Alabama & Gary Johnson             & US President   &   0\\\\\n",
       "\t Alabama & Jill Stein               & US President   &   1\\\\\n",
       "\t Alabama & Donald Trump             & US President   & 218\\\\\n",
       "\t Alabama & {[}Write-in{]}               & US President   &   4\\\\\n",
       "\t Alabama & Alabama Democratic Party & Straight Party & 119\\\\\n",
       "\\end{tabular}\n"
      ],
      "text/markdown": [
       "\n",
       "A data.table: 6 × 4\n",
       "\n",
       "| state &lt;chr&gt; | candidate &lt;chr&gt; | office &lt;chr&gt; | votes &lt;dbl&gt; |\n",
       "|---|---|---|---|\n",
       "| Alabama | Hillary Clinton          | US President   | 135 |\n",
       "| Alabama | Gary Johnson             | US President   |   0 |\n",
       "| Alabama | Jill Stein               | US President   |   1 |\n",
       "| Alabama | Donald Trump             | US President   | 218 |\n",
       "| Alabama | [Write-in]               | US President   |   4 |\n",
       "| Alabama | Alabama Democratic Party | Straight Party | 119 |\n",
       "\n"
      ],
      "text/plain": [
       "  state   candidate                office         votes\n",
       "1 Alabama Hillary Clinton          US President   135  \n",
       "2 Alabama Gary Johnson             US President     0  \n",
       "3 Alabama Jill Stein               US President     1  \n",
       "4 Alabama Donald Trump             US President   218  \n",
       "5 Alabama [Write-in]               US President     4  \n",
       "6 Alabama Alabama Democratic Party Straight Party 119  "
      ]
     },
     "metadata": {},
     "output_type": "display_data"
    }
   ],
   "source": [
    "#Loading data from 2016 Presidential election\n",
    "data(presidential_precincts_2016)\n",
    "data <- presidential_precincts_2016 %>%\n",
    "  select(state, candidate, office, votes)\n",
    "#Populate the table of results\n",
    "dt <- data.table(data)\n",
    "head(data)"
   ]
  },
  {
   "cell_type": "markdown",
   "metadata": {},
   "source": [
    "Note, the original query gives much more information than necessary. All that will be needed for this exercise is the candidates running for president and their performance in each state."
   ]
  },
  {
   "cell_type": "markdown",
   "metadata": {},
   "source": [
    "### Constructing Scoring Vector\n",
    "Read in the electoral votes for each state. CSV file is provided in the repository."
   ]
  },
  {
   "cell_type": "code",
   "execution_count": 36,
   "metadata": {},
   "outputs": [
    {
     "data": {
      "text/html": [
       "<table>\n",
       "<caption>A data.frame: 6 × 3</caption>\n",
       "<thead>\n",
       "\t<tr><th></th><th scope=col>State</th><th scope=col>Electoral_Votes</th><th scope=col>Winner</th></tr>\n",
       "\t<tr><th></th><th scope=col>&lt;chr&gt;</th><th scope=col>&lt;int&gt;</th><th scope=col>&lt;chr&gt;</th></tr>\n",
       "</thead>\n",
       "<tbody>\n",
       "\t<tr><th scope=row>1</th><td>Alabama   </td><td> 9</td><td>Undecided</td></tr>\n",
       "\t<tr><th scope=row>2</th><td>Alaska    </td><td> 3</td><td>Undecided</td></tr>\n",
       "\t<tr><th scope=row>3</th><td>Arizona   </td><td>11</td><td>Undecided</td></tr>\n",
       "\t<tr><th scope=row>4</th><td>Arkansas  </td><td> 6</td><td>Undecided</td></tr>\n",
       "\t<tr><th scope=row>5</th><td>California</td><td>55</td><td>Undecided</td></tr>\n",
       "\t<tr><th scope=row>6</th><td>Colorado  </td><td> 9</td><td>Undecided</td></tr>\n",
       "</tbody>\n",
       "</table>\n"
      ],
      "text/latex": [
       "A data.frame: 6 × 3\n",
       "\\begin{tabular}{r|lll}\n",
       "  & State & Electoral\\_Votes & Winner\\\\\n",
       "  & <chr> & <int> & <chr>\\\\\n",
       "\\hline\n",
       "\t1 & Alabama    &  9 & Undecided\\\\\n",
       "\t2 & Alaska     &  3 & Undecided\\\\\n",
       "\t3 & Arizona    & 11 & Undecided\\\\\n",
       "\t4 & Arkansas   &  6 & Undecided\\\\\n",
       "\t5 & California & 55 & Undecided\\\\\n",
       "\t6 & Colorado   &  9 & Undecided\\\\\n",
       "\\end{tabular}\n"
      ],
      "text/markdown": [
       "\n",
       "A data.frame: 6 × 3\n",
       "\n",
       "| <!--/--> | State &lt;chr&gt; | Electoral_Votes &lt;int&gt; | Winner &lt;chr&gt; |\n",
       "|---|---|---|---|\n",
       "| 1 | Alabama    |  9 | Undecided |\n",
       "| 2 | Alaska     |  3 | Undecided |\n",
       "| 3 | Arizona    | 11 | Undecided |\n",
       "| 4 | Arkansas   |  6 | Undecided |\n",
       "| 5 | California | 55 | Undecided |\n",
       "| 6 | Colorado   |  9 | Undecided |\n",
       "\n"
      ],
      "text/plain": [
       "  State      Electoral_Votes Winner   \n",
       "1 Alabama     9              Undecided\n",
       "2 Alaska      3              Undecided\n",
       "3 Arizona    11              Undecided\n",
       "4 Arkansas    6              Undecided\n",
       "5 California 55              Undecided\n",
       "6 Colorado    9              Undecided"
      ]
     },
     "metadata": {},
     "output_type": "display_data"
    }
   ],
   "source": [
    "#Get scoring vector for each state\n",
    "electoral_votes <- read.csv(file = 'electoral_votes_per_state.csv')[,1:2]\n",
    "electoral_votes$winner <- replicate(51,\"Undecided\")\n",
    "colnames(electoral_votes) <- c(\"State\",\"Electoral_Votes\",\"Winner\")\n",
    "head(electoral_votes)"
   ]
  },
  {
   "cell_type": "markdown",
   "metadata": {},
   "source": [
    "In practice is is easier to deal with ordering the electoral votes alphabetically, which is a valid ordering."
   ]
  },
  {
   "cell_type": "code",
   "execution_count": 37,
   "metadata": {},
   "outputs": [],
   "source": [
    "#Order states in data table alphabetically to match scoring vector\n",
    "states <- unique(data[order(state)]$state)"
   ]
  },
  {
   "cell_type": "code",
   "execution_count": 38,
   "metadata": {},
   "outputs": [],
   "source": [
    "# Generate list of Candidates\n",
    "candidates <- unique(data[order(candidate)]$candidate)"
   ]
  },
  {
   "cell_type": "markdown",
   "metadata": {},
   "source": [
    "### Step 1:\n",
    "Count the total votes for each candidate in each state using plurality scoring rule. This emulates the behavior of the total function outlined above, in practice."
   ]
  },
  {
   "cell_type": "code",
   "execution_count": 46,
   "metadata": {},
   "outputs": [
    {
     "data": {
      "text/html": [
       "<table>\n",
       "<caption>A data.table: 6 × 3</caption>\n",
       "<thead>\n",
       "\t<tr><th scope=col>candidate</th><th scope=col>state</th><th scope=col>total_votes</th></tr>\n",
       "\t<tr><th scope=col>&lt;chr&gt;</th><th scope=col>&lt;chr&gt;</th><th scope=col>&lt;dbl&gt;</th></tr>\n",
       "</thead>\n",
       "<tbody>\n",
       "\t<tr><td>Hillary Clinton         </td><td>Alabama</td><td> 727869</td></tr>\n",
       "\t<tr><td>Gary Johnson            </td><td>Alabama</td><td>  44373</td></tr>\n",
       "\t<tr><td>Jill Stein              </td><td>Alabama</td><td>   9367</td></tr>\n",
       "\t<tr><td>Donald Trump            </td><td>Alabama</td><td>1317127</td></tr>\n",
       "\t<tr><td>[Write-in]              </td><td>Alabama</td><td>  20333</td></tr>\n",
       "\t<tr><td>Alabama Democratic Party</td><td>Alabama</td><td> 397566</td></tr>\n",
       "</tbody>\n",
       "</table>\n"
      ],
      "text/latex": [
       "A data.table: 6 × 3\n",
       "\\begin{tabular}{lll}\n",
       " candidate & state & total\\_votes\\\\\n",
       " <chr> & <chr> & <dbl>\\\\\n",
       "\\hline\n",
       "\t Hillary Clinton          & Alabama &  727869\\\\\n",
       "\t Gary Johnson             & Alabama &   44373\\\\\n",
       "\t Jill Stein               & Alabama &    9367\\\\\n",
       "\t Donald Trump             & Alabama & 1317127\\\\\n",
       "\t {[}Write-in{]}               & Alabama &   20333\\\\\n",
       "\t Alabama Democratic Party & Alabama &  397566\\\\\n",
       "\\end{tabular}\n"
      ],
      "text/markdown": [
       "\n",
       "A data.table: 6 × 3\n",
       "\n",
       "| candidate &lt;chr&gt; | state &lt;chr&gt; | total_votes &lt;dbl&gt; |\n",
       "|---|---|---|\n",
       "| Hillary Clinton          | Alabama |  727869 |\n",
       "| Gary Johnson             | Alabama |   44373 |\n",
       "| Jill Stein               | Alabama |    9367 |\n",
       "| Donald Trump             | Alabama | 1317127 |\n",
       "| [Write-in]               | Alabama |   20333 |\n",
       "| Alabama Democratic Party | Alabama |  397566 |\n",
       "\n"
      ],
      "text/plain": [
       "  candidate                state   total_votes\n",
       "1 Hillary Clinton          Alabama  727869    \n",
       "2 Gary Johnson             Alabama   44373    \n",
       "3 Jill Stein               Alabama    9367    \n",
       "4 Donald Trump             Alabama 1317127    \n",
       "5 [Write-in]               Alabama   20333    \n",
       "6 Alabama Democratic Party Alabama  397566    "
      ]
     },
     "metadata": {},
     "output_type": "display_data"
    }
   ],
   "source": [
    "count <- dt[,list(total_votes = sum(votes)), by = c(\"candidate\",\"state\")]\n",
    "count <- count[order(state)]\n",
    "head(count)"
   ]
  },
  {
   "cell_type": "markdown",
   "metadata": {},
   "source": [
    "Determine the state winner by choosing the candidate with the maximum number of votes. This emulates the behavior of the 𝑓 function. "
   ]
  },
  {
   "cell_type": "markdown",
   "metadata": {},
   "source": [
    "### Step 2:"
   ]
  },
  {
   "cell_type": "markdown",
   "metadata": {},
   "source": [
    "When determining the state winner, the cell below generates the state's ballot. In practice this turns out to be a simplified version of $B$ as defined above, since the ordering is handled lexigraphically by R. Furthermore, this places the states single ballot it in a table to visualize how to easily combine with the scoring vector that was produced above."
   ]
  },
  {
   "cell_type": "code",
   "execution_count": 50,
   "metadata": {},
   "outputs": [
    {
     "data": {
      "text/html": [
       "<table>\n",
       "<caption>A data.frame: 6 × 3</caption>\n",
       "<thead>\n",
       "\t<tr><th></th><th scope=col>State</th><th scope=col>Electoral_Votes</th><th scope=col>Winner</th></tr>\n",
       "\t<tr><th></th><th scope=col>&lt;chr&gt;</th><th scope=col>&lt;int&gt;</th><th scope=col>&lt;chr&gt;</th></tr>\n",
       "</thead>\n",
       "<tbody>\n",
       "\t<tr><th scope=row>1</th><td>Alabama   </td><td> 9</td><td>Donald Trump   </td></tr>\n",
       "\t<tr><th scope=row>2</th><td>Alaska    </td><td> 3</td><td>Donald Trump   </td></tr>\n",
       "\t<tr><th scope=row>3</th><td>Arizona   </td><td>11</td><td>Donald Trump   </td></tr>\n",
       "\t<tr><th scope=row>4</th><td>Arkansas  </td><td> 6</td><td>Donald Trump   </td></tr>\n",
       "\t<tr><th scope=row>5</th><td>California</td><td>55</td><td>Hillary Clinton</td></tr>\n",
       "\t<tr><th scope=row>6</th><td>Colorado  </td><td> 9</td><td>Hillary Clinton</td></tr>\n",
       "</tbody>\n",
       "</table>\n"
      ],
      "text/latex": [
       "A data.frame: 6 × 3\n",
       "\\begin{tabular}{r|lll}\n",
       "  & State & Electoral\\_Votes & Winner\\\\\n",
       "  & <chr> & <int> & <chr>\\\\\n",
       "\\hline\n",
       "\t1 & Alabama    &  9 & Donald Trump   \\\\\n",
       "\t2 & Alaska     &  3 & Donald Trump   \\\\\n",
       "\t3 & Arizona    & 11 & Donald Trump   \\\\\n",
       "\t4 & Arkansas   &  6 & Donald Trump   \\\\\n",
       "\t5 & California & 55 & Hillary Clinton\\\\\n",
       "\t6 & Colorado   &  9 & Hillary Clinton\\\\\n",
       "\\end{tabular}\n"
      ],
      "text/markdown": [
       "\n",
       "A data.frame: 6 × 3\n",
       "\n",
       "| <!--/--> | State &lt;chr&gt; | Electoral_Votes &lt;int&gt; | Winner &lt;chr&gt; |\n",
       "|---|---|---|---|\n",
       "| 1 | Alabama    |  9 | Donald Trump    |\n",
       "| 2 | Alaska     |  3 | Donald Trump    |\n",
       "| 3 | Arizona    | 11 | Donald Trump    |\n",
       "| 4 | Arkansas   |  6 | Donald Trump    |\n",
       "| 5 | California | 55 | Hillary Clinton |\n",
       "| 6 | Colorado   |  9 | Hillary Clinton |\n",
       "\n"
      ],
      "text/plain": [
       "  State      Electoral_Votes Winner         \n",
       "1 Alabama     9              Donald Trump   \n",
       "2 Alaska      3              Donald Trump   \n",
       "3 Arizona    11              Donald Trump   \n",
       "4 Arkansas    6              Donald Trump   \n",
       "5 California 55              Hillary Clinton\n",
       "6 Colorado    9              Hillary Clinton"
      ]
     },
     "metadata": {},
     "output_type": "display_data"
    }
   ],
   "source": [
    "for (i in 1:length(states)) {\n",
    "    state <-  as.data.frame(count[count$state==states[i]])\n",
    "    winner <- state[which.max(state[,3]),]$candidate\n",
    "    electoral_votes$Winner[i] <- winner\n",
    "}\n",
    "head(electoral_votes)"
   ]
  },
  {
   "cell_type": "markdown",
   "metadata": {},
   "source": [
    "Note the analog to $B$ ballot is electoral_votes$Winner.\n",
    "Now, we can easily combine the ballot and the scoring vector to determine the total for each candidate:"
   ]
  },
  {
   "cell_type": "code",
   "execution_count": 52,
   "metadata": {},
   "outputs": [
    {
     "data": {
      "text/html": [
       "<table>\n",
       "<caption>A data.table: 2 × 2</caption>\n",
       "<thead>\n",
       "\t<tr><th scope=col>Winner</th><th scope=col>total_votes</th></tr>\n",
       "\t<tr><th scope=col>&lt;chr&gt;</th><th scope=col>&lt;int&gt;</th></tr>\n",
       "</thead>\n",
       "<tbody>\n",
       "\t<tr><td>Donald Trump   </td><td>305</td></tr>\n",
       "\t<tr><td>Hillary Clinton</td><td>233</td></tr>\n",
       "</tbody>\n",
       "</table>\n"
      ],
      "text/latex": [
       "A data.table: 2 × 2\n",
       "\\begin{tabular}{ll}\n",
       " Winner & total\\_votes\\\\\n",
       " <chr> & <int>\\\\\n",
       "\\hline\n",
       "\t Donald Trump    & 305\\\\\n",
       "\t Hillary Clinton & 233\\\\\n",
       "\\end{tabular}\n"
      ],
      "text/markdown": [
       "\n",
       "A data.table: 2 × 2\n",
       "\n",
       "| Winner &lt;chr&gt; | total_votes &lt;int&gt; |\n",
       "|---|---|\n",
       "| Donald Trump    | 305 |\n",
       "| Hillary Clinton | 233 |\n",
       "\n"
      ],
      "text/plain": [
       "  Winner          total_votes\n",
       "1 Donald Trump    305        \n",
       "2 Hillary Clinton 233        "
      ]
     },
     "metadata": {},
     "output_type": "display_data"
    }
   ],
   "source": [
    "final_count <- as.data.table(electoral_votes)[,list(total_votes = sum(Electoral_Votes)), by = \"Winner\"]\n",
    "final_count"
   ]
  },
  {
   "cell_type": "markdown",
   "metadata": {},
   "source": [
    "## Conclusions\n",
    "The meat of this project is showing that a natural computation of the 2016 election can be captured and encoded using my formalism in Wayland2019. Although there are some hoops to jump through, and currently only positional scoring rules are supported, it does reinforce that my constructions are robust. The coding in this project is not particularily interesting, but writing out these examples and verifying that natural computations are consistent has been a good test for my formalism. If there wasn't a consistent way to capture something as prevelant as the presidential election, then my formalism should have defintely been amended. This exercise defintely gave me more familiarity with how the overarching structure will project down into a particular regime.\n",
    "\n",
    "Understanding the full scope of this research might increase your appretiation for this specific exercise. The idea is to develop a tree of abstraction, if you will. The top nodes are understanding how networks function on an incredibly abstract scale. This leverages category theory, and most of you reading this project will probably want to stay far away from the top. However, there are fundamental ideas and results that underpin how all networks behave and this is something that we as humans should understand, given their ubiquity in our technological world. That being said as you add more and more structure to a network to produce something familiar (i.e. move down the branches of the tree) very interesting qualities start appearing. For instance, in Social Choice theory, you get arrows theorem. Where in the specification of a network does this stem from? Does an a similar property occur in other regimes that can be attributed to a particular branch of specfication? Every field that uses networks is characterized by these specific types of results. It might be ambitiuous, but it seems this abstraction tree could be a worthwhile venture with the yield of understanding connections and themes across disciplines. So what I've done in this project is delve all the way down to the nuts and bolts of computation of elections, ensuring consitency with the high level categorical structure. The idea is to play around and experiment in a particular branch of the tree, from top to bottom, to gain intuition for the levels of the tree and how information propogates. I hope this metaphor helps."
   ]
  },
  {
   "cell_type": "code",
   "execution_count": null,
   "metadata": {},
   "outputs": [],
   "source": []
  }
 ],
 "metadata": {
  "kernelspec": {
   "display_name": "R",
   "language": "R",
   "name": "ir"
  },
  "language_info": {
   "codemirror_mode": "r",
   "file_extension": ".r",
   "mimetype": "text/x-r-source",
   "name": "R",
   "pygments_lexer": "r",
   "version": "4.0.2"
  }
 },
 "nbformat": 4,
 "nbformat_minor": 4
}
