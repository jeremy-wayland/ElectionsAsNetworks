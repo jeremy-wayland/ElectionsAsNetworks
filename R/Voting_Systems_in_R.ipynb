{
 "cells": [
  {
   "cell_type": "markdown",
   "metadata": {},
   "source": [
    "# Implementing a Voting System"
   ]
  },
  {
   "cell_type": "markdown",
   "metadata": {},
   "source": [
    "## Background Theory\n",
    "Here I will summarize the formalism used/developed in Wayland2019. The construction of a generalized voting system, consisting of a set of voters, a set of candidates and a voting rule to compute the outcome of an election is quite standard in the field of social choice theory.\n",
    "* Let $V$ be a nonempty set of n voters $\\{1,...,n\\}$\n",
    "* Let $C$ be the set of m candidates $\\{c_1,...,c_m\\}$\n",
    "* In this situation, we assume that each voter is ranking each of the candidates on their ballot to produce a linear order.\n",
    "* Let $\\mathcal{L}(C)$ denote the set of all linear orders on $C$. It follows then that the collection of ballots, which will be referred to as a profile $\\mathbb{P}$, is a subset of $\\mathcal{L}(C)$. \n",
    "* For $i\\in V$ let $P_i\\in \\mathcal{L}(C)$ denote the truthful preferences of the $i^{th}$ voter.\n",
    "* Then a voting rule, $f$ is nothing more than a function $f:\\mathcal{L}(C)\\to C$ that picks out a single winner.\n",
    "\n",
    "### Voting Rules\n",
    "There are a number of different ways to determine the outcome of an election. This investigation will only consider positional scoring rules. These assign a numerical score to each candidate based on their rank in each $P_i$; the candidate with the maximum score is selected as the winner. \n",
    "* Define a scoring vector to be $s = \\langle s_1,s_2,...,s_m \\rangle$ where for $j=1,...,m-1, s_j\\geq s_{j+1}$.\n",
    "* For $x\\in C$, let the function $score(P_i,x) = s_r$. This picks out the appropriate score in the scoring vector assocaited with the $r^{th}$ element in the linear order $P_i$.\n",
    "* Thus in collecting the total score for $x\\in C$ we are computing $total(\\mathbb{P},x) = \\sum_{i=1}^n score(P_i,x)$\n",
    "* This allows for a concrete definition of a voting rule $f$ on a given profile $\\mathbb{P}$ and scoring vector $s$:\n",
    "    $$ f(\\mathbb{P},s) = \\max_{x\\in C} total(\\mathbb{P},x)$$\n",
    "##### This formalism allows you to fully generate a postional scoring rule given it's scoring vector. Here are some specifications of a few common voting rules:\n",
    "* Plurality: the rule given by $\\langle 1,...,0 \\rangle$.\n",
    "* k-approval: the rule given by $\\langle 1,1,...,0 \\rangle$ where you have $k$ 1's followed by zeros.\n",
    "* Borda: the rule given by $\\langle m-1,m-2,...,0 \\rangle$"
   ]
  },
  {
   "cell_type": "markdown",
   "metadata": {},
   "source": [
    "## Implementation"
   ]
  },
  {
   "cell_type": "code",
   "execution_count": 38,
   "metadata": {},
   "outputs": [],
   "source": [
    "# Imports\n",
    "library(dplyr)\n",
    "library(MVN)\n",
    "library(Hmisc)\n",
    "library(ggplot2)\n",
    "library(tidyverse)"
   ]
  },
  {
   "cell_type": "code",
   "execution_count": 2,
   "metadata": {},
   "outputs": [],
   "source": [
    "# Setup an example Election\n",
    "C <- c(\"Donald Trump\",\"Joe Biden\",\"Kanye West\")\n",
    "num_voters <- 30\n",
    "voting_rule <- \"Plurality\"\n"
   ]
  },
  {
   "cell_type": "code",
   "execution_count": 9,
   "metadata": {},
   "outputs": [],
   "source": [
    "# Generate random ballots for the voters to construct a voting profile \n",
    "\n",
    "construct_profile <- function(num_voters,candidates) {    \n",
    "    #' Return n random permutations on the set of canidates as a matrix\n",
    "    profile <- matrix(data = seq(num_voters*length(candidates)),nrow = num_voters, ncol = length(candidates))\n",
    "    for (i in seq(num_voters)) {\n",
    "        ballot <- sample(C, length(C), replace=FALSE)\n",
    "        profile[i,] <- ballot\n",
    "    }\n",
    "    return(profile)\n",
    "}\n",
    "\n",
    "\n",
    "\n",
    "#Create a scoring vector for a particular profile and voting method\n",
    "\n",
    "generate_s_vector <- function(profile,voting_rule) {\n",
    "    \n",
    "    m <- dim(profile)[2]\n",
    "    \n",
    "    if (voting_rule == \"Plurality\"){\n",
    "        s_vector <- replicate(m,0)\n",
    "        s_vector[1] <- 1\n",
    "    }\n",
    "    else if (voting_rule == \"Borda\"){\n",
    "        s_vector <- rev(0:(m-1))\n",
    "    }\n",
    "    else {\n",
    "        print(\"No functionality for this type of voting method yet\")\n",
    "        return\n",
    "    }\n",
    "    return(s_vector)\n",
    "}"
   ]
  },
  {
   "cell_type": "code",
   "execution_count": 34,
   "metadata": {},
   "outputs": [],
   "source": [
    "# Compute the total score for each candidate\n",
    "total <- function(profile, s_vector) {\n",
    "    \n",
    "    dim <- dim(profile)\n",
    "    \n",
    "    \n",
    "    if (!is.vector(s_vector)) {\n",
    "        print(\"Scoring Vector is not a vector\")\n",
    "        return \n",
    "    }\n",
    "    \n",
    "    if (dim[2] != length(s_vector)) {\n",
    "        print(\"Dimensions of score vector and profile do not match\")\n",
    "        return \n",
    "    }\n",
    "    \n",
    "    df <- as.data.frame(profile)\n",
    "    colnames(df) <- s_vector\n",
    "    freq <- (gather(df) %>% group_by(key, value) %>% tally)\n",
    "    freq$score <- as.numeric(freq$key)*freq$n\n",
    "\n",
    "    totals <- matrix(nrow = dim[2],ncol = 2)\n",
    "    for (i in 1:dim(P)[2]) {\n",
    "            totals[i,] <- c(unique(freq$value[seq(i, dim(freq)[1], dim[2])]),sum(freq$score[seq(i, dim(freq)[1], dim[2])]))\n",
    "        }\n",
    "    return(totals)\n",
    "}\n",
    "\n",
    "# Determine the winner of the election\n",
    "\n",
    "f <- function(profile,voting_rule) {\n",
    "   \n",
    "    s_vector <- generate_s_vector(profile,voting_rule)\n",
    "    totals <- as.data.frame(total(profile,s_vector))\n",
    "    colnames(totals) <- c(\"Candidate\",paste(voting_rule,\"Score\"))\n",
    "    print(totals)\n",
    "    winner <- totals[which.max(totals[,2]),]$Candidate\n",
    "    print(paste(\"The winner of the election is\",winner))\n",
    "    return(winner)\n",
    "    \n",
    "}"
   ]
  },
  {
   "cell_type": "code",
   "execution_count": 37,
   "metadata": {},
   "outputs": [
    {
     "name": "stdout",
     "output_type": "stream",
     "text": [
      "     Candidate Borda Score\n",
      "1 Donald Trump          27\n",
      "2    Joe Biden          31\n",
      "3   Kanye West          32\n",
      "[1] \"The winner of the election is Kanye West\"\n"
     ]
    }
   ],
   "source": [
    "# Test with randomly generated profile\n",
    "P <- construct_profile(num_voters,C)\n",
    "winner <- f(profile = P,voting_rule = \"Borda\")"
   ]
  },
  {
   "cell_type": "markdown",
   "metadata": {},
   "source": [
    "## Live Data for 2020"
   ]
  },
  {
   "cell_type": "code",
   "execution_count": null,
   "metadata": {},
   "outputs": [],
   "source": [
    "#Use python integration to grab live election data and compute using formalism above."
   ]
  }
 ],
 "metadata": {
  "kernelspec": {
   "display_name": "R",
   "language": "R",
   "name": "ir"
  },
  "language_info": {
   "codemirror_mode": "r",
   "file_extension": ".r",
   "mimetype": "text/x-r-source",
   "name": "R",
   "pygments_lexer": "r",
   "version": "4.0.2"
  }
 },
 "nbformat": 4,
 "nbformat_minor": 4
}
