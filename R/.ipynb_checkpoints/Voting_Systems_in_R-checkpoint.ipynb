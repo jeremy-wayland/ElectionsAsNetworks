{
 "cells": [
  {
   "cell_type": "markdown",
   "metadata": {},
   "source": [
    "# Implementing a Voting System"
   ]
  },
  {
   "cell_type": "markdown",
   "metadata": {},
   "source": [
    "## Background Theory\n",
    "Here I will summarize the formalism used/developed in Wayland2019. The construction of a generalized voting system, consisting of a set of voters, a set of candidates and a voting rule to compute the outcome of an election is quite standard in the field of social choice theory.\n",
    "* Let $V$ be a nonempty set of n voters $\\{1,...,n\\}$\n",
    "* Let $C$ be the set of m candidates $\\{c_1,...,c_m\\}$\n",
    "* In this situation, we assume that each voter is ranking each of the candidates on their ballot to produce a linear order.\n",
    "* Let $\\mathcal{L}(C)$ denote the set of all linear orders on $C$. It follows then that the collection of ballots, which will be referred to as a profile $\\mathbb{P}$, is a subset of $\\mathcal{L}(C)$. \n",
    "* For $i\\in V$ let $P_i\\in \\mathcal{L}(C)$ denote the truthful preferences of the $i^{th}$ voter.\n",
    "* Then a voting rule, $f$ is nothing more than a function $f:\\mathcal{L}(C)\\to C$ that picks out a single winner.\n",
    "\n",
    "### Voting Rules\n",
    "There are a number of different ways to determine the outcome of an election. This investigation will only consider positional scoring rules. These assign a numerical score to each candidate based on their rank in each $P_i$; the candidate with the maximum score is selected as the winner. \n",
    "* Define a scoring vector to be $s = \\langle s_1,s_2,...,s_m \\rangle$ where for $j=1,...,m-1, s_j\\geq s_{j+1}$.\n",
    "* For $x\\in C$, let the function $score(P_i,x) = s_r$. This picks out the appropriate score in the scoring vector assocaited with the $r^{th}$ element in the linear order $P_i$.\n",
    "* Thus in collecting the total score for $x\\in C$ we are computing $total(\\mathbb{P},x) = \\sum_{i=1}^n score(P_i,x)$\n",
    "* This allows for a concrete definition of a voting rule $f$ on a given profile $\\mathbb{P}$ and scoring vector $s$:\n",
    "    $$ f(\\mathbb{P},s) = \\max_{x\\in C} total(\\mathbb{P},x)$$\n",
    "##### This formalism allows you to fully generate a postional scoring rule given it's scoring vector. Here are some specifications of a few common voting rules:\n",
    "* Plurality: the rule given by $\\langle 1,...,0 \\rangle$.\n",
    "* k-approval: the rule given by $\\langle 1,1,...,0 \\rangle$ where you have $k$ 1's followed by zeros.\n",
    "* Borda: the rule given by $\\langle m-1,m-2,...,0 \\rangle$"
   ]
  },
  {
   "cell_type": "markdown",
   "metadata": {},
   "source": [
    "## Implementation"
   ]
  },
  {
   "cell_type": "code",
   "execution_count": 21,
   "metadata": {},
   "outputs": [],
   "source": [
    "# Imports\n",
    "library(dplyr)\n",
    "library(MVN)\n",
    "library(Hmisc)\n",
    "library(ggplot2)\n",
    "library(tidyverse)"
   ]
  },
  {
   "cell_type": "code",
   "execution_count": 47,
   "metadata": {},
   "outputs": [],
   "source": [
    "# Setup an example Election\n",
    "C <- c(\"Donald Trump\",\"Joe Biden\")\n",
    "num_voters <- 30\n",
    "voting_rule <- \"Plurality\"\n"
   ]
  },
  {
   "cell_type": "code",
   "execution_count": 48,
   "metadata": {},
   "outputs": [],
   "source": [
    "# Generate random ballots for the voters to construct a voting profile \n",
    "\n",
    "construct_profile <- function(num_voters,candidates) {    \n",
    "    #' Return n random permutations on the set of canidates as a matrix\n",
    "    profile <- matrix(data = seq(num_voters*length(candidates)),nrow = num_voters, ncol = length(candidates))\n",
    "    for (i in seq(num_voters)) {\n",
    "        ballot <- sample(C, length(C), replace=FALSE)\n",
    "        profile[i,] <- ballot\n",
    "    }\n",
    "    return(profile)\n",
    "}\n",
    "\n",
    "\n",
    "\n",
    "#Create a scoring vector for a particular profile and voting method\n",
    "\n",
    "generate_s_vector <- function(profile)"
   ]
  },
  {
   "cell_type": "code",
   "execution_count": 5,
   "metadata": {},
   "outputs": [],
   "source": [
    "# Compute the total score for each candidate\n",
    "total <- function(profile, s_vector) {\n",
    "    \n",
    "    dim <- dim(profile)\n",
    "    \n",
    "    \n",
    "    if (!is.vector(s_vector)) {\n",
    "        print(\"Scoring Vector is not a vector\")\n",
    "        return 0\n",
    "    }\n",
    "    \n",
    "    if (dim[2] != length(s_vector)) {\n",
    "        print(\"Dimensions of score vector and profile do not match\")\n",
    "        return 0\n",
    "    }\n",
    "    \n",
    "    df <- as.data.frame(profile)\n",
    "    colnames(df) <- s_vector\n",
    "    freq <- (gather(df) %>% group_by(key, value) %>% tally)[,c(\"value\",\"n\")]\n",
    "    freq$score <- as.numeric(freq$key)*freq$n\n",
    "    \n",
    "    totals <- matrix(nrow = dim[2],ncol = 2,dimnames = )\n",
    "    \n",
    "    for (i in 1:dim(P)[2]) {\n",
    "        totals[i,] <- c(unique(freq$value[seq(i, dim(freq)[1], dim[2])]),sum(freq$total[seq(i, dim(freq)[1], dim[2])]))\n",
    "    }\n",
    "    \n",
    "    return totals    \n",
    "    \n",
    "}\n",
    "\n",
    "# Determine the winner of the election\n",
    "f <- function(profile,voting_method) {\n",
    "   \n",
    "    s_vector <- generate_s_vector(voting method)\n",
    "    totals <- total(profile,s_vector)\n",
    "    print(totals)\n",
    "    \n",
    "}"
   ]
  },
  {
   "cell_type": "code",
   "execution_count": 76,
   "metadata": {},
   "outputs": [
    {
     "data": {
      "text/html": [
       "<table>\n",
       "<caption>A data.frame: 30 × 3</caption>\n",
       "<thead>\n",
       "\t<tr><th scope=col>2</th><th scope=col>1</th><th scope=col>0</th></tr>\n",
       "\t<tr><th scope=col>&lt;chr&gt;</th><th scope=col>&lt;chr&gt;</th><th scope=col>&lt;chr&gt;</th></tr>\n",
       "</thead>\n",
       "<tbody>\n",
       "\t<tr><td>Joe Biden   </td><td>Donald Trump</td><td>Kanye west  </td></tr>\n",
       "\t<tr><td>Kanye west  </td><td>Joe Biden   </td><td>Donald Trump</td></tr>\n",
       "\t<tr><td>Donald Trump</td><td>Joe Biden   </td><td>Kanye west  </td></tr>\n",
       "\t<tr><td>Kanye west  </td><td>Donald Trump</td><td>Joe Biden   </td></tr>\n",
       "\t<tr><td>Donald Trump</td><td>Kanye west  </td><td>Joe Biden   </td></tr>\n",
       "\t<tr><td>Joe Biden   </td><td>Kanye west  </td><td>Donald Trump</td></tr>\n",
       "\t<tr><td>Joe Biden   </td><td>Kanye west  </td><td>Donald Trump</td></tr>\n",
       "\t<tr><td>Donald Trump</td><td>Kanye west  </td><td>Joe Biden   </td></tr>\n",
       "\t<tr><td>Joe Biden   </td><td>Donald Trump</td><td>Kanye west  </td></tr>\n",
       "\t<tr><td>Donald Trump</td><td>Kanye west  </td><td>Joe Biden   </td></tr>\n",
       "\t<tr><td>Donald Trump</td><td>Joe Biden   </td><td>Kanye west  </td></tr>\n",
       "\t<tr><td>Donald Trump</td><td>Kanye west  </td><td>Joe Biden   </td></tr>\n",
       "\t<tr><td>Kanye west  </td><td>Joe Biden   </td><td>Donald Trump</td></tr>\n",
       "\t<tr><td>Donald Trump</td><td>Joe Biden   </td><td>Kanye west  </td></tr>\n",
       "\t<tr><td>Kanye west  </td><td>Donald Trump</td><td>Joe Biden   </td></tr>\n",
       "\t<tr><td>Donald Trump</td><td>Kanye west  </td><td>Joe Biden   </td></tr>\n",
       "\t<tr><td>Joe Biden   </td><td>Kanye west  </td><td>Donald Trump</td></tr>\n",
       "\t<tr><td>Joe Biden   </td><td>Kanye west  </td><td>Donald Trump</td></tr>\n",
       "\t<tr><td>Donald Trump</td><td>Joe Biden   </td><td>Kanye west  </td></tr>\n",
       "\t<tr><td>Donald Trump</td><td>Joe Biden   </td><td>Kanye west  </td></tr>\n",
       "\t<tr><td>Kanye west  </td><td>Donald Trump</td><td>Joe Biden   </td></tr>\n",
       "\t<tr><td>Kanye west  </td><td>Joe Biden   </td><td>Donald Trump</td></tr>\n",
       "\t<tr><td>Donald Trump</td><td>Joe Biden   </td><td>Kanye west  </td></tr>\n",
       "\t<tr><td>Donald Trump</td><td>Kanye west  </td><td>Joe Biden   </td></tr>\n",
       "\t<tr><td>Donald Trump</td><td>Kanye west  </td><td>Joe Biden   </td></tr>\n",
       "\t<tr><td>Kanye west  </td><td>Donald Trump</td><td>Joe Biden   </td></tr>\n",
       "\t<tr><td>Kanye west  </td><td>Joe Biden   </td><td>Donald Trump</td></tr>\n",
       "\t<tr><td>Joe Biden   </td><td>Kanye west  </td><td>Donald Trump</td></tr>\n",
       "\t<tr><td>Kanye west  </td><td>Joe Biden   </td><td>Donald Trump</td></tr>\n",
       "\t<tr><td>Donald Trump</td><td>Joe Biden   </td><td>Kanye west  </td></tr>\n",
       "</tbody>\n",
       "</table>\n"
      ],
      "text/latex": [
       "A data.frame: 30 × 3\n",
       "\\begin{tabular}{lll}\n",
       " 2 & 1 & 0\\\\\n",
       " <chr> & <chr> & <chr>\\\\\n",
       "\\hline\n",
       "\t Joe Biden    & Donald Trump & Kanye west  \\\\\n",
       "\t Kanye west   & Joe Biden    & Donald Trump\\\\\n",
       "\t Donald Trump & Joe Biden    & Kanye west  \\\\\n",
       "\t Kanye west   & Donald Trump & Joe Biden   \\\\\n",
       "\t Donald Trump & Kanye west   & Joe Biden   \\\\\n",
       "\t Joe Biden    & Kanye west   & Donald Trump\\\\\n",
       "\t Joe Biden    & Kanye west   & Donald Trump\\\\\n",
       "\t Donald Trump & Kanye west   & Joe Biden   \\\\\n",
       "\t Joe Biden    & Donald Trump & Kanye west  \\\\\n",
       "\t Donald Trump & Kanye west   & Joe Biden   \\\\\n",
       "\t Donald Trump & Joe Biden    & Kanye west  \\\\\n",
       "\t Donald Trump & Kanye west   & Joe Biden   \\\\\n",
       "\t Kanye west   & Joe Biden    & Donald Trump\\\\\n",
       "\t Donald Trump & Joe Biden    & Kanye west  \\\\\n",
       "\t Kanye west   & Donald Trump & Joe Biden   \\\\\n",
       "\t Donald Trump & Kanye west   & Joe Biden   \\\\\n",
       "\t Joe Biden    & Kanye west   & Donald Trump\\\\\n",
       "\t Joe Biden    & Kanye west   & Donald Trump\\\\\n",
       "\t Donald Trump & Joe Biden    & Kanye west  \\\\\n",
       "\t Donald Trump & Joe Biden    & Kanye west  \\\\\n",
       "\t Kanye west   & Donald Trump & Joe Biden   \\\\\n",
       "\t Kanye west   & Joe Biden    & Donald Trump\\\\\n",
       "\t Donald Trump & Joe Biden    & Kanye west  \\\\\n",
       "\t Donald Trump & Kanye west   & Joe Biden   \\\\\n",
       "\t Donald Trump & Kanye west   & Joe Biden   \\\\\n",
       "\t Kanye west   & Donald Trump & Joe Biden   \\\\\n",
       "\t Kanye west   & Joe Biden    & Donald Trump\\\\\n",
       "\t Joe Biden    & Kanye west   & Donald Trump\\\\\n",
       "\t Kanye west   & Joe Biden    & Donald Trump\\\\\n",
       "\t Donald Trump & Joe Biden    & Kanye west  \\\\\n",
       "\\end{tabular}\n"
      ],
      "text/markdown": [
       "\n",
       "A data.frame: 30 × 3\n",
       "\n",
       "| 2 &lt;chr&gt; | 1 &lt;chr&gt; | 0 &lt;chr&gt; |\n",
       "|---|---|---|\n",
       "| Joe Biden    | Donald Trump | Kanye west   |\n",
       "| Kanye west   | Joe Biden    | Donald Trump |\n",
       "| Donald Trump | Joe Biden    | Kanye west   |\n",
       "| Kanye west   | Donald Trump | Joe Biden    |\n",
       "| Donald Trump | Kanye west   | Joe Biden    |\n",
       "| Joe Biden    | Kanye west   | Donald Trump |\n",
       "| Joe Biden    | Kanye west   | Donald Trump |\n",
       "| Donald Trump | Kanye west   | Joe Biden    |\n",
       "| Joe Biden    | Donald Trump | Kanye west   |\n",
       "| Donald Trump | Kanye west   | Joe Biden    |\n",
       "| Donald Trump | Joe Biden    | Kanye west   |\n",
       "| Donald Trump | Kanye west   | Joe Biden    |\n",
       "| Kanye west   | Joe Biden    | Donald Trump |\n",
       "| Donald Trump | Joe Biden    | Kanye west   |\n",
       "| Kanye west   | Donald Trump | Joe Biden    |\n",
       "| Donald Trump | Kanye west   | Joe Biden    |\n",
       "| Joe Biden    | Kanye west   | Donald Trump |\n",
       "| Joe Biden    | Kanye west   | Donald Trump |\n",
       "| Donald Trump | Joe Biden    | Kanye west   |\n",
       "| Donald Trump | Joe Biden    | Kanye west   |\n",
       "| Kanye west   | Donald Trump | Joe Biden    |\n",
       "| Kanye west   | Joe Biden    | Donald Trump |\n",
       "| Donald Trump | Joe Biden    | Kanye west   |\n",
       "| Donald Trump | Kanye west   | Joe Biden    |\n",
       "| Donald Trump | Kanye west   | Joe Biden    |\n",
       "| Kanye west   | Donald Trump | Joe Biden    |\n",
       "| Kanye west   | Joe Biden    | Donald Trump |\n",
       "| Joe Biden    | Kanye west   | Donald Trump |\n",
       "| Kanye west   | Joe Biden    | Donald Trump |\n",
       "| Donald Trump | Joe Biden    | Kanye west   |\n",
       "\n"
      ],
      "text/plain": [
       "   2            1            0           \n",
       "1  Joe Biden    Donald Trump Kanye west  \n",
       "2  Kanye west   Joe Biden    Donald Trump\n",
       "3  Donald Trump Joe Biden    Kanye west  \n",
       "4  Kanye west   Donald Trump Joe Biden   \n",
       "5  Donald Trump Kanye west   Joe Biden   \n",
       "6  Joe Biden    Kanye west   Donald Trump\n",
       "7  Joe Biden    Kanye west   Donald Trump\n",
       "8  Donald Trump Kanye west   Joe Biden   \n",
       "9  Joe Biden    Donald Trump Kanye west  \n",
       "10 Donald Trump Kanye west   Joe Biden   \n",
       "11 Donald Trump Joe Biden    Kanye west  \n",
       "12 Donald Trump Kanye west   Joe Biden   \n",
       "13 Kanye west   Joe Biden    Donald Trump\n",
       "14 Donald Trump Joe Biden    Kanye west  \n",
       "15 Kanye west   Donald Trump Joe Biden   \n",
       "16 Donald Trump Kanye west   Joe Biden   \n",
       "17 Joe Biden    Kanye west   Donald Trump\n",
       "18 Joe Biden    Kanye west   Donald Trump\n",
       "19 Donald Trump Joe Biden    Kanye west  \n",
       "20 Donald Trump Joe Biden    Kanye west  \n",
       "21 Kanye west   Donald Trump Joe Biden   \n",
       "22 Kanye west   Joe Biden    Donald Trump\n",
       "23 Donald Trump Joe Biden    Kanye west  \n",
       "24 Donald Trump Kanye west   Joe Biden   \n",
       "25 Donald Trump Kanye west   Joe Biden   \n",
       "26 Kanye west   Donald Trump Joe Biden   \n",
       "27 Kanye west   Joe Biden    Donald Trump\n",
       "28 Joe Biden    Kanye west   Donald Trump\n",
       "29 Kanye west   Joe Biden    Donald Trump\n",
       "30 Donald Trump Joe Biden    Kanye west  "
      ]
     },
     "metadata": {},
     "output_type": "display_data"
    }
   ],
   "source": [
    "P <- construct_profile(num_voters,C)\n",
    "df <- as.data.frame(P)\n",
    "colnames(df) <- c(2,1,0)\n",
    "df"
   ]
  },
  {
   "cell_type": "code",
   "execution_count": 130,
   "metadata": {},
   "outputs": [],
   "source": [
    "freq = (gather(df) %>% group_by(key,value) %>% tally)"
   ]
  },
  {
   "cell_type": "code",
   "execution_count": 131,
   "metadata": {},
   "outputs": [
    {
     "data": {
      "text/html": [
       "<table>\n",
       "<caption>A grouped_df: 9 × 4</caption>\n",
       "<thead>\n",
       "\t<tr><th scope=col>key</th><th scope=col>value</th><th scope=col>n</th><th scope=col>total</th></tr>\n",
       "\t<tr><th scope=col>&lt;chr&gt;</th><th scope=col>&lt;chr&gt;</th><th scope=col>&lt;int&gt;</th><th scope=col>&lt;dbl&gt;</th></tr>\n",
       "</thead>\n",
       "<tbody>\n",
       "\t<tr><td>0</td><td>Donald Trump</td><td>10</td><td> 0</td></tr>\n",
       "\t<tr><td>0</td><td>Joe Biden   </td><td>11</td><td> 0</td></tr>\n",
       "\t<tr><td>0</td><td>Kanye west  </td><td> 9</td><td> 0</td></tr>\n",
       "\t<tr><td>1</td><td>Donald Trump</td><td> 6</td><td> 6</td></tr>\n",
       "\t<tr><td>1</td><td>Joe Biden   </td><td>12</td><td>12</td></tr>\n",
       "\t<tr><td>1</td><td>Kanye west  </td><td>12</td><td>12</td></tr>\n",
       "\t<tr><td>2</td><td>Donald Trump</td><td>14</td><td>28</td></tr>\n",
       "\t<tr><td>2</td><td>Joe Biden   </td><td> 7</td><td>14</td></tr>\n",
       "\t<tr><td>2</td><td>Kanye west  </td><td> 9</td><td>18</td></tr>\n",
       "</tbody>\n",
       "</table>\n"
      ],
      "text/latex": [
       "A grouped\\_df: 9 × 4\n",
       "\\begin{tabular}{llll}\n",
       " key & value & n & total\\\\\n",
       " <chr> & <chr> & <int> & <dbl>\\\\\n",
       "\\hline\n",
       "\t 0 & Donald Trump & 10 &  0\\\\\n",
       "\t 0 & Joe Biden    & 11 &  0\\\\\n",
       "\t 0 & Kanye west   &  9 &  0\\\\\n",
       "\t 1 & Donald Trump &  6 &  6\\\\\n",
       "\t 1 & Joe Biden    & 12 & 12\\\\\n",
       "\t 1 & Kanye west   & 12 & 12\\\\\n",
       "\t 2 & Donald Trump & 14 & 28\\\\\n",
       "\t 2 & Joe Biden    &  7 & 14\\\\\n",
       "\t 2 & Kanye west   &  9 & 18\\\\\n",
       "\\end{tabular}\n"
      ],
      "text/markdown": [
       "\n",
       "A grouped_df: 9 × 4\n",
       "\n",
       "| key &lt;chr&gt; | value &lt;chr&gt; | n &lt;int&gt; | total &lt;dbl&gt; |\n",
       "|---|---|---|---|\n",
       "| 0 | Donald Trump | 10 |  0 |\n",
       "| 0 | Joe Biden    | 11 |  0 |\n",
       "| 0 | Kanye west   |  9 |  0 |\n",
       "| 1 | Donald Trump |  6 |  6 |\n",
       "| 1 | Joe Biden    | 12 | 12 |\n",
       "| 1 | Kanye west   | 12 | 12 |\n",
       "| 2 | Donald Trump | 14 | 28 |\n",
       "| 2 | Joe Biden    |  7 | 14 |\n",
       "| 2 | Kanye west   |  9 | 18 |\n",
       "\n"
      ],
      "text/plain": [
       "  key value        n  total\n",
       "1 0   Donald Trump 10  0   \n",
       "2 0   Joe Biden    11  0   \n",
       "3 0   Kanye west    9  0   \n",
       "4 1   Donald Trump  6  6   \n",
       "5 1   Joe Biden    12 12   \n",
       "6 1   Kanye west   12 12   \n",
       "7 2   Donald Trump 14 28   \n",
       "8 2   Joe Biden     7 14   \n",
       "9 2   Kanye west    9 18   "
      ]
     },
     "metadata": {},
     "output_type": "display_data"
    }
   ],
   "source": [
    "freq$total <- as.numeric(freq$key)*freq$n\n",
    "freq"
   ]
  },
  {
   "cell_type": "code",
   "execution_count": 108,
   "metadata": {},
   "outputs": [
    {
     "data": {
      "text/html": [
       "<style>\n",
       ".list-inline {list-style: none; margin:0; padding: 0}\n",
       ".list-inline>li {display: inline-block}\n",
       ".list-inline>li:not(:last-child)::after {content: \"\\00b7\"; padding: 0 .5ex}\n",
       "</style>\n",
       "<ol class=list-inline><li>1</li><li>1</li><li>4</li><li>1</li><li>4</li><li>7</li><li>1</li><li>4</li><li>7</li><li>10</li><li>1</li><li>4</li><li>7</li><li>10</li><li>13</li><li>1</li><li>4</li><li>7</li><li>10</li><li>13</li><li>16</li><li>1</li><li>4</li><li>7</li><li>10</li><li>13</li><li>16</li><li>19</li><li>1</li><li>4</li><li>7</li><li>10</li><li>13</li><li>16</li><li>19</li><li>22</li><li>1</li><li>4</li><li>7</li><li>10</li><li>13</li><li>16</li><li>19</li><li>22</li><li>25</li></ol>\n"
      ],
      "text/latex": [
       "\\begin{enumerate*}\n",
       "\\item 1\n",
       "\\item 1\n",
       "\\item 4\n",
       "\\item 1\n",
       "\\item 4\n",
       "\\item 7\n",
       "\\item 1\n",
       "\\item 4\n",
       "\\item 7\n",
       "\\item 10\n",
       "\\item 1\n",
       "\\item 4\n",
       "\\item 7\n",
       "\\item 10\n",
       "\\item 13\n",
       "\\item 1\n",
       "\\item 4\n",
       "\\item 7\n",
       "\\item 10\n",
       "\\item 13\n",
       "\\item 16\n",
       "\\item 1\n",
       "\\item 4\n",
       "\\item 7\n",
       "\\item 10\n",
       "\\item 13\n",
       "\\item 16\n",
       "\\item 19\n",
       "\\item 1\n",
       "\\item 4\n",
       "\\item 7\n",
       "\\item 10\n",
       "\\item 13\n",
       "\\item 16\n",
       "\\item 19\n",
       "\\item 22\n",
       "\\item 1\n",
       "\\item 4\n",
       "\\item 7\n",
       "\\item 10\n",
       "\\item 13\n",
       "\\item 16\n",
       "\\item 19\n",
       "\\item 22\n",
       "\\item 25\n",
       "\\end{enumerate*}\n"
      ],
      "text/markdown": [
       "1. 1\n",
       "2. 1\n",
       "3. 4\n",
       "4. 1\n",
       "5. 4\n",
       "6. 7\n",
       "7. 1\n",
       "8. 4\n",
       "9. 7\n",
       "10. 10\n",
       "11. 1\n",
       "12. 4\n",
       "13. 7\n",
       "14. 10\n",
       "15. 13\n",
       "16. 1\n",
       "17. 4\n",
       "18. 7\n",
       "19. 10\n",
       "20. 13\n",
       "21. 16\n",
       "22. 1\n",
       "23. 4\n",
       "24. 7\n",
       "25. 10\n",
       "26. 13\n",
       "27. 16\n",
       "28. 19\n",
       "29. 1\n",
       "30. 4\n",
       "31. 7\n",
       "32. 10\n",
       "33. 13\n",
       "34. 16\n",
       "35. 19\n",
       "36. 22\n",
       "37. 1\n",
       "38. 4\n",
       "39. 7\n",
       "40. 10\n",
       "41. 13\n",
       "42. 16\n",
       "43. 19\n",
       "44. 22\n",
       "45. 25\n",
       "\n",
       "\n"
      ],
      "text/plain": [
       " [1]  1  1  4  1  4  7  1  4  7 10  1  4  7 10 13  1  4  7 10 13 16  1  4  7 10\n",
       "[26] 13 16 19  1  4  7 10 13 16 19 22  1  4  7 10 13 16 19 22 25"
      ]
     },
     "metadata": {},
     "output_type": "display_data"
    }
   ],
   "source": []
  },
  {
   "cell_type": "code",
   "execution_count": 118,
   "metadata": {},
   "outputs": [
    {
     "data": {
      "text/html": [
       "<style>\n",
       ".list-inline {list-style: none; margin:0; padding: 0}\n",
       ".list-inline>li {display: inline-block}\n",
       ".list-inline>li:not(:last-child)::after {content: \"\\00b7\"; padding: 0 .5ex}\n",
       "</style>\n",
       "<ol class=list-inline><li>3</li><li>6</li><li>9</li></ol>\n"
      ],
      "text/latex": [
       "\\begin{enumerate*}\n",
       "\\item 3\n",
       "\\item 6\n",
       "\\item 9\n",
       "\\end{enumerate*}\n"
      ],
      "text/markdown": [
       "1. 3\n",
       "2. 6\n",
       "3. 9\n",
       "\n",
       "\n"
      ],
      "text/plain": [
       "[1] 3 6 9"
      ]
     },
     "metadata": {},
     "output_type": "display_data"
    }
   ],
   "source": [
    "m <- 1:50\n",
    "n<- m[seq(3, dim(freq)[1], 3)]\n",
    "n"
   ]
  },
  {
   "cell_type": "code",
   "execution_count": 133,
   "metadata": {},
   "outputs": [
    {
     "data": {
      "text/html": [
       "<table>\n",
       "<caption>A matrix: 3 × 2 of type chr</caption>\n",
       "<tbody>\n",
       "\t<tr><td>Donald Trump</td><td>34</td></tr>\n",
       "\t<tr><td>Joe Biden   </td><td>26</td></tr>\n",
       "\t<tr><td>Kanye west  </td><td>30</td></tr>\n",
       "</tbody>\n",
       "</table>\n"
      ],
      "text/latex": [
       "A matrix: 3 × 2 of type chr\n",
       "\\begin{tabular}{ll}\n",
       "\t Donald Trump & 34\\\\\n",
       "\t Joe Biden    & 26\\\\\n",
       "\t Kanye west   & 30\\\\\n",
       "\\end{tabular}\n"
      ],
      "text/markdown": [
       "\n",
       "A matrix: 3 × 2 of type chr\n",
       "\n",
       "| Donald Trump | 34 |\n",
       "| Joe Biden    | 26 |\n",
       "| Kanye west   | 30 |\n",
       "\n"
      ],
      "text/plain": [
       "     [,1]         [,2]\n",
       "[1,] Donald Trump 34  \n",
       "[2,] Joe Biden    26  \n",
       "[3,] Kanye west   30  "
      ]
     },
     "metadata": {},
     "output_type": "display_data"
    }
   ],
   "source": [
    "total <- matrix(nrow = dim(P)[2],ncol = 2)\n",
    "    for (i in 1:dim(P)[2]) {\n",
    "        total[i,] <- c(unique(freq$value[seq(i, dim(freq)[1], dim(P)[2])]),sum(freq$total[seq(i, dim(freq)[1], dim(P)[2])]))\n",
    "}\n",
    "total[which.max(df$Temp)]"
   ]
  },
  {
   "cell_type": "markdown",
   "metadata": {},
   "source": [
    "## Live Data for 2020"
   ]
  },
  {
   "cell_type": "code",
   "execution_count": null,
   "metadata": {},
   "outputs": [],
   "source": [
    "#Use python integration to grab live election data and compute using formalism above."
   ]
  }
 ],
 "metadata": {
  "kernelspec": {
   "display_name": "R",
   "language": "R",
   "name": "ir"
  },
  "language_info": {
   "codemirror_mode": "r",
   "file_extension": ".r",
   "mimetype": "text/x-r-source",
   "name": "R",
   "pygments_lexer": "r",
   "version": "4.0.2"
  }
 },
 "nbformat": 4,
 "nbformat_minor": 4
}
