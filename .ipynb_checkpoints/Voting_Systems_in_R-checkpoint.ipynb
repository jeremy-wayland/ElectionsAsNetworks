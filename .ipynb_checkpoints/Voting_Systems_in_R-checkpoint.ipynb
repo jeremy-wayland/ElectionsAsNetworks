{
 "cells": [
  {
   "cell_type": "markdown",
   "metadata": {},
   "source": [
    "# Implementing a Voting System"
   ]
  },
  {
   "cell_type": "markdown",
   "metadata": {},
   "source": [
    "## Background Theory\n",
    "Here I will summarize the formalism used/developed in Wayland2019. The construction of a generalized voting system, consisting of a set of voters, a set of candidates and a voting rule to compute the outcome of an election is quite standard in the field of social choice theory.\n",
    "* Let $V$ be a nonempty set of n voters $\\{1,...,n\\}$\n",
    "* Let $C$ be the set of m candidates $\\{c_1,...,c_m\\}$\n",
    "* In this situation, we assume that each voter is ranking each of the candidates on their ballot to produce a linear order.\n",
    "* Let $\\mathcal{L}(C)$ denote the set of all linear orders on $C$. It follows then that the collection of ballots, which will be referred to as a profile $\\mathbb{P}$, is a subset of $\\mathcal{L}(C)$. \n",
    "* For $i\\in V$ let $P_i\\in \\mathcal{L}(C)$ denote the truthful preferences of the $i^{th}$ voter.\n",
    "* Then a voting rule, $f$ is nothing more than a function $f:\\mathcal{L}(C)\\to C$ that picks out a single winner.\n",
    "\n",
    "### Voting Rules\n",
    "There are a number of different ways to determine the outcome of an election. This investigation will only consider positional scoring rules. These assign a numerical score to each candidate based on their rank in each $P_i$; the candidate with the maximum score is selected as the winner. \n",
    "* Define a scoring vector to be $s = \\langle s_1,s_2,...,s_m \\rangle$ where for $j=1,...,m-1, s_j\\geq s_{j+1}$.\n",
    "* For $x\\in C$, let the function $score(P_i,x) = s_r$. This picks out the appropriate score in the scoring vector assocaited with the $r^{th}$ element in the linear order $P_i$.\n",
    "* Thus in collecting the total score for $x\\in C$ we are computing $total(\\mathbb{P},x) = \\sum_{i=1}^n score(P_i,x)$\n",
    "* This allows for a concrete definition of a voting rule $f$ on a given profile $\\mathbb{P}$ and scoring vector $s$:\n",
    "    $$ f(\\mathbb{P},s) = \\max_{x\\in C} total(\\mathbb{P},x)$$\n",
    "##### This formalism allows you to fully generate a postional scoring rule given it's scoring vector. Here are some specifications of a few common voting rules:\n",
    "* Plurality: the rule given by $\\langle 1,...,0 \\rangle$.\n",
    "* k-approval: the rule given by $\\langle 1,1,...,0 \\rangle$ where you have $k$ 1's followed by zeros.\n",
    "* Borda: the rule given by $\\langle m-1,m-2,...,0 \\rangle$"
   ]
  },
  {
   "cell_type": "markdown",
   "metadata": {},
   "source": [
    "## Implementation"
   ]
  },
  {
   "cell_type": "code",
   "execution_count": 88,
   "metadata": {},
   "outputs": [],
   "source": [
    "# Imports"
   ]
  },
  {
   "cell_type": "code",
   "execution_count": 97,
   "metadata": {},
   "outputs": [],
   "source": [
    "# Setup an example Election\n",
    "C <- c(\"Donald Trump\",\"Joe Biden\")\n",
    "num_voters <- 10\n",
    "voting_rule <- \"Plurality\"\n",
    "\n",
    "#Need to define function to generate the score vector for given number of candidates according to voting_rule"
   ]
  },
  {
   "cell_type": "code",
   "execution_count": 98,
   "metadata": {},
   "outputs": [],
   "source": [
    "# Generate random ballots for the voters to construct a voting profile \n",
    "\n",
    "construct_profile <- function(num_voters,candidates) {    \n",
    "    #' Return n random permutations on the set of canidates as a matrix\n",
    "    profile <- matrix(data = seq(num_voters*length(candidates)),nrow = num_voters, ncol = length(candidates))\n",
    "    for (i in seq(num_voters)) {\n",
    "        ballot <- sample(C, length(C), replace=FALSE)\n",
    "        profile[i,] <- ballot\n",
    "    }\n",
    "    return(profile)\n",
    "}"
   ]
  },
  {
   "cell_type": "code",
   "execution_count": 99,
   "metadata": {},
   "outputs": [],
   "source": [
    "# Compute the winner of the election \n",
    "f <- function(profile, s_vector) {\n",
    "    \n",
    "    #Want to be able to determine the outcome purely from the profile \n",
    "    #and the scoring rule as suggested in the theory section.\n",
    "    #Want to find package (maybe use data frames) to get the count of each input in a column and combine with s_vector\n",
    "    # to give total score\n",
    "    # Then take the maximum and return winning candidate (might need to institute tie breaking rules at some point)\n",
    "    \n",
    "    \n",
    "}"
   ]
  },
  {
   "cell_type": "code",
   "execution_count": 80,
   "metadata": {},
   "outputs": [
    {
     "data": {
      "text/html": [
       "<table>\n",
       "<caption>A matrix: 10 × 2 of type chr</caption>\n",
       "<tbody>\n",
       "\t<tr><td>Joe Biden   </td><td>Donald Trump</td></tr>\n",
       "\t<tr><td>Donald Trump</td><td>Joe Biden   </td></tr>\n",
       "\t<tr><td>Donald Trump</td><td>Joe Biden   </td></tr>\n",
       "\t<tr><td>Donald Trump</td><td>Joe Biden   </td></tr>\n",
       "\t<tr><td>Joe Biden   </td><td>Donald Trump</td></tr>\n",
       "\t<tr><td>Joe Biden   </td><td>Donald Trump</td></tr>\n",
       "\t<tr><td>Joe Biden   </td><td>Donald Trump</td></tr>\n",
       "\t<tr><td>Donald Trump</td><td>Joe Biden   </td></tr>\n",
       "\t<tr><td>Joe Biden   </td><td>Donald Trump</td></tr>\n",
       "\t<tr><td>Donald Trump</td><td>Joe Biden   </td></tr>\n",
       "</tbody>\n",
       "</table>\n"
      ],
      "text/latex": [
       "A matrix: 10 × 2 of type chr\n",
       "\\begin{tabular}{ll}\n",
       "\t Joe Biden    & Donald Trump\\\\\n",
       "\t Donald Trump & Joe Biden   \\\\\n",
       "\t Donald Trump & Joe Biden   \\\\\n",
       "\t Donald Trump & Joe Biden   \\\\\n",
       "\t Joe Biden    & Donald Trump\\\\\n",
       "\t Joe Biden    & Donald Trump\\\\\n",
       "\t Joe Biden    & Donald Trump\\\\\n",
       "\t Donald Trump & Joe Biden   \\\\\n",
       "\t Joe Biden    & Donald Trump\\\\\n",
       "\t Donald Trump & Joe Biden   \\\\\n",
       "\\end{tabular}\n"
      ],
      "text/markdown": [
       "\n",
       "A matrix: 10 × 2 of type chr\n",
       "\n",
       "| Joe Biden    | Donald Trump |\n",
       "| Donald Trump | Joe Biden    |\n",
       "| Donald Trump | Joe Biden    |\n",
       "| Donald Trump | Joe Biden    |\n",
       "| Joe Biden    | Donald Trump |\n",
       "| Joe Biden    | Donald Trump |\n",
       "| Joe Biden    | Donald Trump |\n",
       "| Donald Trump | Joe Biden    |\n",
       "| Joe Biden    | Donald Trump |\n",
       "| Donald Trump | Joe Biden    |\n",
       "\n"
      ],
      "text/plain": [
       "      [,1]         [,2]        \n",
       " [1,] Joe Biden    Donald Trump\n",
       " [2,] Donald Trump Joe Biden   \n",
       " [3,] Donald Trump Joe Biden   \n",
       " [4,] Donald Trump Joe Biden   \n",
       " [5,] Joe Biden    Donald Trump\n",
       " [6,] Joe Biden    Donald Trump\n",
       " [7,] Joe Biden    Donald Trump\n",
       " [8,] Donald Trump Joe Biden   \n",
       " [9,] Joe Biden    Donald Trump\n",
       "[10,] Donald Trump Joe Biden   "
      ]
     },
     "metadata": {},
     "output_type": "display_data"
    }
   ],
   "source": [
    "P <- construct_profile(num_voters,C)\n",
    "P"
   ]
  },
  {
   "cell_type": "code",
   "execution_count": null,
   "metadata": {},
   "outputs": [],
   "source": []
  }
 ],
 "metadata": {
  "kernelspec": {
   "display_name": "R",
   "language": "R",
   "name": "ir"
  },
  "language_info": {
   "codemirror_mode": "r",
   "file_extension": ".r",
   "mimetype": "text/x-r-source",
   "name": "R",
   "pygments_lexer": "r",
   "version": "4.0.2"
  }
 },
 "nbformat": 4,
 "nbformat_minor": 4
}
